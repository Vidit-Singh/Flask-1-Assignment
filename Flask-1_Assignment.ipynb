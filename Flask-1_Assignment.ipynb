{
 "cells": [
  {
   "cell_type": "markdown",
   "id": "c3c36c0c-91c6-419a-aa25-d580550d0e25",
   "metadata": {},
   "source": [
    "# Q1. What is Flask Framework? What are the advantages of Flask Framework?"
   ]
  },
  {
   "cell_type": "markdown",
   "id": "8a9ddecd-6e7f-460d-bf4b-7b8b21a263ff",
   "metadata": {},
   "source": [
    "- Flask is a micro web framework for Python that is designed to be lightweight, flexible, and easy to use. It provides the essential tools needed to build web applications and APIs, while allowing developers the freedom to choose and integrate additional tools and libraries as needed. Flask's simplicity and extensibility make it a popular choice for both beginners and experienced developers working on a wide range of web projects.\n",
    "\n",
    "Advantages of Flask Framework\n",
    "\n",
    "1) Simplicity and Minimalism:\n",
    "- Flask is simple and easy to learn for beginners. It provides a straightforward approach to developing web applications without the need for boilerplate code.\n",
    "- The minimalistic approach means fewer layers of abstraction, making it easier to understand how things work under the hood.\n",
    "\n",
    "2) Flexibility:\n",
    "- Flask does not impose any constraints on the project layout or third-party tools. This gives developers the freedom to choose their libraries and architecture.\n",
    "\n",
    "3) Modularity:\n",
    "- Flask supports modular programming with blueprints, allowing developers to break an application into reusable components or modules.\n",
    "\n",
    "4) Extensibility:\n",
    "- Flask’s extensions allow developers to add functionality to the core framework as needed. Extensions can be used for database integration, form handling, authentication, and more.\n",
    "\n",
    "5) Community and Ecosystem:\n",
    "- Flask has a large and active community, providing a wealth of resources, tutorials, and extensions. The ecosystem around Flask is mature, with many third-party libraries and tools available.\n",
    "\n",
    "6) Performance:\n",
    "- Flask’s lightweight nature makes it faster and more efficient, which can be a significant advantage for smaller applications or microservices where performance is crucial.\n",
    "\n",
    "7) Scalability:\n",
    "- Flask’s modularity and extensibility make it suitable for both small projects and large-scale applications. Developers can start with a simple application and scale it up as needed.\n",
    "\n",
    "8) Debugging:\n",
    "- Flask comes with an integrated debugger and provides excellent error messages, which makes debugging easier during development.\n",
    "\n",
    "9) RESTful Services:\n",
    "- Flask is well-suited for creating RESTful APIs. Its URL routing system is straightforward and conducive to designing RESTful services.\n",
    "\n",
    "10) Support for Templating:\n",
    "- Flask uses Jinja2 for templating, which is a powerful and flexible templating engine. It allows for complex data rendering with minimal effort."
   ]
  },
  {
   "cell_type": "code",
   "execution_count": null,
   "id": "d1abc11f-8363-4608-a9a5-48fe0bfa8401",
   "metadata": {},
   "outputs": [],
   "source": []
  },
  {
   "cell_type": "markdown",
   "id": "f4e812bd-15d1-41ee-bb58-6fb940023d74",
   "metadata": {},
   "source": [
    "# Q2. Create a simple Flask application to display ‘Hello World!!’. Attach the screenshot of the output in Jupyter Notebook."
   ]
  },
  {
   "cell_type": "markdown",
   "id": "1ecac4af-147b-4268-86b4-e5046daff3d1",
   "metadata": {},
   "source": [
    "- Below is the code for the given flask application : \n",
    "\n",
    "\n",
    "from flask import Flask\n",
    "\n",
    "from flask import request\n",
    "\n",
    "\n",
    "app = Flask(__name__)\n",
    "\n",
    "@app.route(\"/\")\n",
    "\n",
    "def hello_world():\n",
    "    return \" 'Hello World!!'\"\n",
    "\n",
    "if __name__==\"__main__\":\n",
    "    \n",
    "    app.run(host=\"0.0.0.0\")\n",
    "    \n",
    "OUTPUT : "
   ]
  },
  {
   "cell_type": "markdown",
   "id": "2acfd676-6ca5-49e8-b9a1-2b8089ea77f9",
   "metadata": {},
   "source": [
    "<img src = \"output.jpg\"/>"
   ]
  },
  {
   "cell_type": "code",
   "execution_count": null,
   "id": "f4b42371-c644-4250-856e-620df119263d",
   "metadata": {},
   "outputs": [],
   "source": []
  },
  {
   "cell_type": "markdown",
   "id": "92d09c78-c43a-4e1d-b71d-84ed8eec93bf",
   "metadata": {},
   "source": [
    "# Q3. What is App routing in Flask? Why do we use app routes?"
   ]
  },
  {
   "cell_type": "markdown",
   "id": "5f21f5f5-9c26-47cb-8ca3-dd8162b33bf2",
   "metadata": {},
   "source": [
    "- App routing in Flask refers to the process of defining URL patterns (routes) that map to specific functions or view handlers in a Flask application. When a user navigates to a particular URL in a web application, the corresponding function is executed to generate the response. This is a fundamental aspect of web development, as it determines how different URLs in your application are handled.\n",
    "\n",
    "- In Flask, app routing is accomplished using the @app.route decorator, which is applied to a function. The function, also known as a view function or route handler, defines what should happen when a specific URL is accessed.\n",
    "\n",
    "Why Do We Use App Routes?\n",
    "\n",
    "App routes are used for several important reasons:\n",
    "\n",
    "1) URL Management:\n",
    "- App routes allow developers to define clean and organized URLs for their web application, making it easier for users to navigate the site.\n",
    "\n",
    "2) Separation of Concerns:\n",
    "- By mapping URLs to specific functions, Flask encourages a clear separation of concerns. Each view function handles a specific URL endpoint, making the codebase more modular and easier to maintain.\n",
    "\n",
    "3) Dynamic Content:\n",
    "- App routes enable the generation of dynamic content. Depending on the URL accessed, the view function can generate different responses, often using data from databases, user inputs, or other sources.\n",
    "\n",
    "4) Handling HTTP Methods:\n",
    "- App routes can be configured to handle different HTTP methods (GET, POST, PUT, DELETE, etc.), allowing for the creation of RESTful APIs and more complex web interactions.\n",
    "\n",
    "5) Scalability:\n",
    "- Using app routes makes it easier to scale an application. Routes can be grouped into blueprints (modules) for better organization, especially in larger applications."
   ]
  },
  {
   "cell_type": "code",
   "execution_count": null,
   "id": "09dbf174-b57c-4a37-b9e9-0aaabd54e576",
   "metadata": {},
   "outputs": [],
   "source": []
  },
  {
   "cell_type": "markdown",
   "id": "93dd05f2-a261-4656-8f60-fde56a3b1de3",
   "metadata": {},
   "source": [
    "# Q4. Create a “/welcome” route to display the welcome message “Welcome to ABC Corporation” and a “/” route to show the following details:\n",
    "\n",
    "Company Name: ABC Corporation\n",
    "Location: India\n",
    "Contact Detail: 999-999-9999\n",
    "Attach the screenshot of the output in Jupyter Notebook."
   ]
  },
  {
   "cell_type": "markdown",
   "id": "22778c0c-bfde-43e4-ab58-34023fefcb89",
   "metadata": {},
   "source": [
    "Below is the code for above flask application: \n",
    "from flask import Flask\n",
    "\n",
    "app = Flask(__name__)\n",
    "\n",
    "\n",
    "@app.route('/welcome')\n",
    "\n",
    "def welcome():\n",
    "\n",
    "  return \" Welcome to ABC Corporation \"\n",
    "\n",
    "@app.route('/')\n",
    "\n",
    "def company_details():\n",
    "    \n",
    "    return \"Company Name: ABC Corporation/n Location: India/n Contact Detail: 999-999-9999\"\n",
    "\n",
    "\n",
    "if __name__==\"__main__\":\n",
    "    \n",
    "    app.run(host=\"0.0.0.0\")"
   ]
  },
  {
   "cell_type": "markdown",
   "id": "3bf20766-aace-4409-92b2-3fae62d7c15c",
   "metadata": {},
   "source": [
    "<img src = \"output-3.jpg\"/>"
   ]
  },
  {
   "cell_type": "markdown",
   "id": "07aa9592-904b-4ca9-a38b-2cc6466db86e",
   "metadata": {},
   "source": [
    "<img src = \"output-2.jpg\"/>"
   ]
  },
  {
   "cell_type": "code",
   "execution_count": null,
   "id": "49a46ba5-7519-442e-8494-1cc58b97e024",
   "metadata": {},
   "outputs": [],
   "source": []
  },
  {
   "cell_type": "markdown",
   "id": "797defc7-4486-407c-9293-046a7e8a5359",
   "metadata": {},
   "source": [
    "# Q5. What function is used in Flask for URL Building? Write a Python code to demonstrate the working of the url_for() function."
   ]
  },
  {
   "cell_type": "markdown",
   "id": "b744d050-d141-4d09-a678-50219ee46689",
   "metadata": {},
   "source": [
    "- URL Building in Flask with url_for\n",
    "In Flask, the url_for function is used to build URLs for specific functions or endpoints. This is particularly useful for generating URLs dynamically and avoiding hardcoding URLs in your templates and views. The url_for function takes the endpoint name (which is usually the name of the view function) and any arguments that need to be passed to the endpoint."
   ]
  },
  {
   "cell_type": "code",
   "execution_count": null,
   "id": "0d061e68-e851-4d7a-921f-297463b4c634",
   "metadata": {},
   "outputs": [],
   "source": [
    "from flask import Flask, url_for, redirect\n",
    "\n",
    "app = Flask(__name__)\n",
    "\n",
    "@app.route('/')\n",
    "def home():\n",
    "    return 'This is the Home Page.'\n",
    "\n",
    "@app.route('/welcome')\n",
    "def welcome():\n",
    "    return 'Welcome to ABC Corporation.'\n",
    "\n",
    "@app.route('/user/<username>')\n",
    "def user_profile(username):\n",
    "    return f'User Profile Page of {username}'\n",
    "\n",
    "@app.route('/redirect_to_welcome')\n",
    "def redirect_to_welcome():\n",
    "    # Using url_for to build the URL for the 'welcome' endpoint\n",
    "    return redirect(url_for('welcome'))\n",
    "\n",
    "@app.route('/redirect_to_user/<username>')\n",
    "def redirect_to_user(username):\n",
    "    # Using url_for to build the URL for the 'user_profile' endpoint with a username argument\n",
    "    return redirect(url_for('user_profile', username=username))\n",
    "\n",
    "if __name__ == '__main__':\n",
    "    app.run(debug=True)\n"
   ]
  },
  {
   "cell_type": "markdown",
   "id": "ee9464de-381d-4095-84bf-a10312917853",
   "metadata": {},
   "source": [
    "Explanation:\n",
    "Importing Flask and Required Functions:\n",
    "\n",
    "We import Flask, url_for, and redirect from the flask module.\n",
    "Creating the Flask App:\n",
    "\n",
    "We create an instance of the Flask class.\n",
    "Defining Routes:\n",
    "\n",
    "Home Route: @app.route('/') maps to the home function which returns a simple message.\n",
    "Welcome Route: @app.route('/welcome') maps to the welcome function which returns a welcome message.\n",
    "User Profile Route: @app.route('/user/<username>') maps to the user_profile function which takes a username as an argument and returns a user profile message.\n",
    "Redirect Routes Using url_for:\n",
    "\n",
    "Redirect to Welcome: @app.route('/redirect_to_welcome') maps to the redirect_to_welcome function which uses url_for to build the URL for the welcome endpoint and then redirects to it.\n",
    "Redirect to User Profile: @app.route('/redirect_to_user/<username>') maps to the redirect_to_user function which uses url_for to build the URL for the user_profile endpoint with a username argument and then redirects to it.\n",
    "Running the App:\n",
    "\n",
    "The if __name__ == '__main__': block ensures that the Flask app runs only if the script is executed directly. The app.run(debug=True) line starts the development server with debug mode enabled."
   ]
  },
  {
   "cell_type": "code",
   "execution_count": null,
   "id": "32c12875-655d-4388-a6be-73d77d10dd4b",
   "metadata": {},
   "outputs": [],
   "source": []
  }
 ],
 "metadata": {
  "kernelspec": {
   "display_name": "Python 3 (ipykernel)",
   "language": "python",
   "name": "python3"
  },
  "language_info": {
   "codemirror_mode": {
    "name": "ipython",
    "version": 3
   },
   "file_extension": ".py",
   "mimetype": "text/x-python",
   "name": "python",
   "nbconvert_exporter": "python",
   "pygments_lexer": "ipython3",
   "version": "3.10.8"
  }
 },
 "nbformat": 4,
 "nbformat_minor": 5
}
